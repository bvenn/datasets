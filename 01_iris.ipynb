
        {
            "cells": [
          {
           "cell_type": "markdown",
           "metadata": {},
           
           "source": ["// can\u0027t yet format YamlFrontmatter ([\"title: Iris\"; \"category: Datasets\"; \"categoryindex: 1\"; \"index: 1\"], Some { StartLine = 2 StartColumn = 0 EndLine = 6 EndColumn = 8 }) to pynb markdown\n",
"\n",
"[![Binder](/datasets/img/badge-binder.svg)](https://mybinder.org/v2/gh/plotly/Plotly.NET/gh-pages?filepath=01_iris.ipynb)\u0026emsp;\n",
"[![Script](/datasets/img/badge-script.svg)](/datasets/01_iris.fsx)\u0026emsp;\n",
"[![Notebook](/datasets/img/badge-notebook.svg)](/datasets/01_iris.ipynb)\n",
"\n",
"# The Iris dataset\n",
"\n",
"**Table of contents**\n",
"\n",
"- [Description]()\n",
"- [How to use]()\n",
"- [Examples]()\n",
"\n",
"## Description\n",
"\n",
"WIP\n",
"\n",
"## How to use\n",
"\n",
"\n"]
          }
,
          {
           "cell_type": "code",
           "metadata": {},
            "execution_count": 1, "outputs": [
          {
           "data": {
            "text/plain": ["sepal_length sepal_width petal_length petal_width species   ",
"0   -\u003e 5.1          3.5         1.4          0.2         setosa    ",
"1   -\u003e 4.9          3.0         1.4          0.2         setosa    ",
"2   -\u003e 4.7          3.2         1.3          0.2         setosa    ",
"3   -\u003e 4.6          3.1         1.5          0.2         setosa    ",
"4   -\u003e 5.0          3.6         1.4          0.2         setosa    ",
"5   -\u003e 5.4          3.9         1.7          0.4         setosa    ",
"6   -\u003e 4.6          3.4         1.4          0.3         setosa    ",
"7   -\u003e 5.0          3.4         1.5          0.2         setosa    ",
"8   -\u003e 4.4          2.9         1.4          0.2         setosa    ",
"9   -\u003e 4.9          3.1         1.5          0.1         setosa    ",
"10  -\u003e 5.4          3.7         1.5          0.2         setosa    ",
"11  -\u003e 4.8          3.4         1.6          0.2         setosa    ",
"12  -\u003e 4.8          3.0         1.4          0.1         setosa    ",
"13  -\u003e 4.3          3.0         1.1          0.1         setosa    ",
"14  -\u003e 5.8          4.0         1.2          0.2         setosa    ",
":      ...          ...         ...          ...         ...       ",
"135 -\u003e 7.7          3.0         6.1          2.3         virginica ",
"136 -\u003e 6.3          3.4         5.6          2.4         virginica ",
"137 -\u003e 6.4          3.1         5.5          1.8         virginica ",
"138 -\u003e 6.0          3.0         4.8          1.8         virginica ",
"139 -\u003e 6.9          3.1         5.4          2.1         virginica ",
"140 -\u003e 6.7          3.1         5.6          2.4         virginica ",
"141 -\u003e 6.9          3.1         5.1          2.3         virginica ",
"142 -\u003e 5.8          2.7         5.1          1.9         virginica ",
"143 -\u003e 6.8          3.2         5.9          2.3         virginica ",
"144 -\u003e 6.7          3.3         5.7          2.5         virginica ",
"145 -\u003e 6.7          3.0         5.2          2.3         virginica ",
"146 -\u003e 6.3          2.5         5.0          1.9         virginica ",
"147 -\u003e 6.5          3.0         5.2          2.0         virginica ",
"148 -\u003e 6.2          3.4         5.4          2.3         virginica ",
"149 -\u003e 5.9          3.0         5.1          1.8         virginica"]
        },
           "execution_count": 1,
           "metadata": {},
           "output_type": "execute_result"
          }], 
           "source": ["#r \"nuget: FSharp.Data\"\n",
"#r \"nuget: Deedle\"\n",
"\n",
"open FSharp.Data\n",
"open Deedle\n",
"\n",
"let rawData = Http.RequestString @\"https://raw.githubusercontent.com/fslaborg/datasets/main/data/iris.csv\"\n",
"let df = Frame.ReadCsvString(rawData) //exact settings may differ here depending on e.g. the separator used in the individual dataset\n",
"\n",
"df.Print()\n"]
          }
,
          {
           "cell_type": "markdown",
           "metadata": {},
           
           "source": ["## Examples\n",
"\n",
"WIP\n",
"\n",
"\n"]
          }],
            "metadata": {
            "kernelspec": {"display_name": ".NET (F#)", "language": "F#", "name": ".net-fsharp"},
            "langauge_info": {
        "file_extension": ".fs",
        "mimetype": "text/x-fsharp",
        "name": "C#",
        "pygments_lexer": "fsharp",
        "version": "4.5"
        }
        },
            "nbformat": 4,
            "nbformat_minor": 1
        }
        

